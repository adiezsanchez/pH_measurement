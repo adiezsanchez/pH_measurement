{
 "cells": [
  {
   "cell_type": "code",
   "execution_count": 1,
   "metadata": {},
   "outputs": [
    {
     "data": {
      "text/plain": [
       "<NVIDIA GeForce RTX 4090 Laptop GPU on Platform: NVIDIA CUDA (1 refs)>"
      ]
     },
     "execution_count": 1,
     "metadata": {},
     "output_type": "execute_result"
    }
   ],
   "source": [
    "import os\n",
    "from tqdm import tqdm\n",
    "from pathlib import Path\n",
    "import napari\n",
    "import czifile\n",
    "import numpy as np\n",
    "from skimage import exposure\n",
    "from skimage.measure import regionprops\n",
    "import pandas as pd\n",
    "import pyclesperanto_prototype as cle\n",
    "import plotly.express as px\n",
    "\n",
    "cle.select_device(\"RTX\")"
   ]
  },
  {
   "cell_type": "code",
   "execution_count": 4,
   "metadata": {},
   "outputs": [
    {
     "name": "stderr",
     "output_type": "stream",
     "text": [
      "WARNING: QWindowsWindow::setGeometry: Unable to set geometry 2172x1310+1944+621 (frame: 2194x1366+1933+576) on QWidgetWindow/\"_QtMainWindowClassWindow\" on \"\\\\.\\DISPLAY1\". Resulting geometry: 3260x1968+1947+635 (frame: 3282x2024+1936+590) margins: 11, 45, 11, 11 minimum size: 385x484 MINMAXINFO maxSize=0,0 maxpos=0,0 mintrack=792,1024 maxtrack=0,0)\n"
     ]
    },
    {
     "data": {
      "text/plain": [
       "<Image layer 'fluo_img' at 0x20ba15883d0>"
      ]
     },
     "execution_count": 4,
     "metadata": {},
     "output_type": "execute_result"
    }
   ],
   "source": [
    "# Read the image file and remove singleton dimensions\n",
    "img = czifile.imread(\"./raw_data/Image 2.czi\")\n",
    "img = img.squeeze()\n",
    "\n",
    "# Slice img to extract the fluorescence channel and discard brightfield data\n",
    "fluo_img = img[:, 0, :, :]\n",
    "\n",
    "# Display in Napari\n",
    "viewer = napari.Viewer(ndisplay=2)\n",
    "viewer.add_image(img)\n",
    "viewer.add_image(fluo_img)"
   ]
  },
  {
   "cell_type": "code",
   "execution_count": 5,
   "metadata": {},
   "outputs": [
    {
     "name": "stdout",
     "output_type": "stream",
     "text": [
      "Image 2 #1\n",
      "152.4070796460177\n",
      "Image 2 #2\n",
      "127.44635193133047\n",
      "Image 2 #3\n",
      "129.7325581395349\n",
      "Image 2 #4\n",
      "97.1989247311828\n",
      "Image 2 #5\n",
      "36.4\n",
      "Image 2 #6\n",
      "29.4375\n",
      "Image 2 #7\n",
      "14.5\n",
      "Image 2 #8\n",
      "45.08108108108108\n",
      "Image 2 #9\n",
      "36.01851851851852\n",
      "Image 2 #10\n",
      "23.964285714285715\n"
     ]
    }
   ],
   "source": [
    "# Extract the first dimension size\n",
    "num_slices = fluo_img.shape[0]\n",
    "\n",
    "# Loop over all slices in the multiposition stack\n",
    "for i in range(num_slices):\n",
    "\n",
    "    # Extract each slice position according to the loop index (i)\n",
    "    slice = fluo_img[i, :, :]\n",
    "\n",
    "    # Add input slice to Napari\n",
    "    viewer.add_image(slice)\n",
    "\n",
    "    # Apply Contrast Stretching to improve segmentation accuracy\n",
    "    # p2, p98 = np.percentile(slice, (2, 98)) \n",
    "\n",
    "    # contrast_stretched =  exposure.rescale_intensity(slice, in_range=(p2, p98))\n",
    "\n",
    "    # Apply Voronoi-Otsu labeling to segment each cell entity\n",
    "    segmented = cle.voronoi_otsu_labeling(slice, spot_sigma=1, outline_sigma=1)\n",
    "    segmented = cle.pull(segmented) # Transform OCL_array into numpy for regionprops\n",
    "\n",
    "    # Add resulting labels to Napari \n",
    "    viewer.add_labels(segmented)\n",
    "\n",
    "    # Measure fluorescence intensity in each of the labels\n",
    "    props = regionprops(label_image=segmented, intensity_image=slice)\n",
    "\n",
    "    print(f\"Image 2 #{i+1}\")\n",
    "    print(props[0].intensity_mean)"
   ]
  }
 ],
 "metadata": {
  "kernelspec": {
   "display_name": "microglia_GPU",
   "language": "python",
   "name": "python3"
  },
  "language_info": {
   "codemirror_mode": {
    "name": "ipython",
    "version": 3
   },
   "file_extension": ".py",
   "mimetype": "text/x-python",
   "name": "python",
   "nbconvert_exporter": "python",
   "pygments_lexer": "ipython3",
   "version": "3.9.19"
  }
 },
 "nbformat": 4,
 "nbformat_minor": 2
}
